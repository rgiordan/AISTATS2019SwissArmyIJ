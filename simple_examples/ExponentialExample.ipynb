{
 "cells": [
  {
   "cell_type": "markdown",
   "metadata": {},
   "source": [
    "# Exponential example.\n",
    "\n",
    "In this notebook, we demonstrate the calculation of error bounds for the Swiss Army infinitesimal jackknife for a simple scalar exponential family model.  Although the model is trivial, it simplicity aids understanding the interplay of different elements of Theorem 1.\n",
    "\n",
    "In this notebook, we pay particular attention to the influence of the choice of $\\Omega_\\theta$ on the resulting bounds."
   ]
  },
  {
   "cell_type": "code",
   "execution_count": 1,
   "metadata": {
    "collapsed": true
   },
   "outputs": [],
   "source": [
    "import autograd\n",
    "import autograd.numpy as np\n",
    "import scipy as sp\n",
    "import paragami\n",
    "import vittles\n",
    "\n",
    "import tqdm\n",
    "import time\n",
    "\n",
    "import matplotlib.pyplot as plt\n",
    "%matplotlib inline"
   ]
  },
  {
   "cell_type": "code",
   "execution_count": 2,
   "metadata": {
    "collapsed": true
   },
   "outputs": [],
   "source": [
    "# A convenience function to visually compare two variables.\n",
    "def comparison_plot(x, y):\n",
    "    plt.plot(x, x, 'k')\n",
    "    plt.plot(x, y, 'r.')"
   ]
  },
  {
   "cell_type": "markdown",
   "metadata": {},
   "source": [
    "First, draw some data from an exponential distribution."
   ]
  },
  {
   "cell_type": "code",
   "execution_count": 3,
   "metadata": {},
   "outputs": [
    {
     "data": {
      "text/plain": [
       "9.935368315178039"
      ]
     },
     "execution_count": 3,
     "metadata": {},
     "output_type": "execute_result"
    },
    {
     "data": {
      "image/png": "[encoded data removed]",
      "text/plain": [
       "<Figure size 432x288 with 1 Axes>"
      ]
     },
     "metadata": {},
     "output_type": "display_data"
    }
   ],
   "source": [
    "def generate_data(num_obs, theta_true):\n",
    "    return np.random.exponential(np.exp(-1 * theta_true), num_obs)\n",
    "\n",
    "num_obs = 10000\n",
    "theta_true = np.log(0.1)\n",
    "\n",
    "x = generate_data(num_obs, theta_true)\n",
    "\n",
    "plt.hist(x, 100);\n",
    "np.mean(x)"
   ]
  },
  {
   "cell_type": "markdown",
   "metadata": {},
   "source": [
    "First, we specify the weighted MLE loss function.  In this case, the optimum is available in closed form.  For convenience we implement the closed form optimum and test that it matches the optimum of the loss function."
   ]
  },
  {
   "cell_type": "code",
   "execution_count": 4,
   "metadata": {
    "scrolled": false
   },
   "outputs": [
    {
     "name": "stdout",
     "output_type": "stream",
     "text": [
      "Iter 0: f = 3.29636573\n",
      "Iter 1: f = 3.29634381\n",
      "Iter 2: f = 3.29634381\n",
      "Iter 3: f = 3.29634381\n",
      "Optimization terminated successfully.\n"
     ]
    }
   ],
   "source": [
    "def get_opt(w, x):\n",
    "    return np.log(np.sum(w)) - np.log(np.sum(w * x))\n",
    "\n",
    "def eval_log_loss(theta, w, x):\n",
    "    ll = -1 * np.sum(w * (-1 * x * np.exp(theta) + theta)) / num_obs\n",
    "    return ll\n",
    "\n",
    "w = np.ones(num_obs) + 0.1 * (np.random.random(num_obs) - 0.5)\n",
    "\n",
    "# Test the loss function and optimum with random weights.\n",
    "log_loss_objective = paragami.OptimizationObjective(\n",
    "    lambda theta: eval_log_loss(theta, w, x))\n",
    "log_loss_objective.reset()\n",
    "log_loss_objective.set_log_every(1)\n",
    "opt = sp.optimize.minimize(\n",
    "    fun=log_loss_objective.f,\n",
    "    jac=log_loss_objective.grad,\n",
    "    method='bfgs',\n",
    "    x0=theta_true,\n",
    "    options={'gtol': 1e-12})\n",
    "print(opt.message)\n",
    "\n",
    "assert(np.abs(opt.x[0] - get_opt(w, x)) < 1e-8)\n"
   ]
  },
  {
   "cell_type": "markdown",
   "metadata": {},
   "source": [
    "Get the optimum at the original weights."
   ]
  },
  {
   "cell_type": "code",
   "execution_count": 5,
   "metadata": {
    "collapsed": true
   },
   "outputs": [],
   "source": [
    "w1 = np.ones(num_obs)\n",
    "theta_opt = get_opt(w1, x)"
   ]
  },
  {
   "cell_type": "markdown",
   "metadata": {},
   "source": [
    "Define an IJ predictor object using ``vittles``."
   ]
  },
  {
   "cell_type": "code",
   "execution_count": 6,
   "metadata": {
    "collapsed": true
   },
   "outputs": [],
   "source": [
    "ij_predictor = \\\n",
    "    vittles.HyperparameterSensitivityLinearApproximation(\n",
    "        lambda theta, w: eval_log_loss(theta, w, x),\n",
    "        opt_par_value=np.array([theta_opt]),\n",
    "        hyper_par_value=w1)"
   ]
  },
  {
   "cell_type": "markdown",
   "metadata": {},
   "source": [
    "Get the IJ predictions and exact CV for a range of weights."
   ]
  },
  {
   "cell_type": "code",
   "execution_count": 7,
   "metadata": {},
   "outputs": [
    {
     "data": {
      "image/png": "[encoded data removed]",
      "text/plain": [
       "<Figure size 432x288 with 1 Axes>"
      ]
     },
     "metadata": {},
     "output_type": "display_data"
    }
   ],
   "source": [
    "w_loo = np.ones(num_obs)\n",
    "\n",
    "theta_ij = np.full(num_obs, float('nan'))\n",
    "theta_cv = np.full(num_obs, float('nan'))\n",
    "for n in range(num_obs):\n",
    "    w_loo[n] = 0\n",
    "    theta_ij[n] = ij_predictor.predict_opt_par_from_hyper_par(w_loo)\n",
    "    theta_cv[n] = get_opt(w_loo, x)\n",
    "    w_loo[n] = 1\n",
    "\n",
    "comparison_plot(theta_cv - theta_opt, theta_ij - theta_opt)"
   ]
  },
  {
   "cell_type": "markdown",
   "metadata": {},
   "source": [
    "# Error bound calculation."
   ]
  },
  {
   "cell_type": "markdown",
   "metadata": {},
   "source": [
    "We now calculate error bounds for the IJ approximation.\n",
    "\n",
    "For this model, we will parameterize the log likelihood of datapoint $x_n$ as follows:\n",
    "\n",
    "$$\n",
    "\\begin{align}\n",
    "\\ell\\left(x_{n},\\theta\\right)\t=& -\\exp(\\theta) x_{n} + \\theta \\\\\n",
    "\\end{align}\n",
    "$$\n",
    "\n",
    "By allowing $\\theta$ to take values in all of $\\mathbb{R}$, we simplify some calculation and avoid large derivatives at the boundary of the valid domain.\n",
    "\n",
    "For convenience, we define\n",
    "\n",
    "$$\n",
    "\\begin{align}\n",
    "M\\left(w\\right)\t=& \\frac{1}{N}\\sum_{n=1}^{N}w_{n}x_{n}\\\\\n",
    "S\\left(w\\right)\t=& \\frac{1}{N}\\sum_{n=1}^{N}w_{n}x_{n}^{2}\\\\\n",
    "\\bar{w}\t=& \\frac{1}{N}\\sum_{n=1}^{N}w_{n}.\\\\\n",
    "\\end{align}\n",
    "$$\n",
    "\n",
    "Given these definitions,\n",
    "\n",
    "$$\n",
    "\\begin{align}\n",
    "g_{n}\\left(\\theta\\right)&=-\\exp\\left(\\theta\\right)x_{n}+1\\\\\n",
    "h_{n}\\left(\\theta\\right)&=-\\exp\\left(\\theta\\right)x_{n}\n",
    "\\end{align}\n",
    "$$\n",
    "\n",
    "and the aggregated quantities are\n",
    "\n",
    "$$\n",
    "\\begin{align}\n",
    "L\\left(\\theta,w\\right) &= -M\\left(w\\right)\\exp\\left(\\theta\\right)+\\bar{w}\\theta\\\\\n",
    "G\\left(\\theta,w\\right) &= -M\\left(w\\right)\\exp\\left(\\theta\\right)+\\bar{w}\\\\\n",
    "H\\left(\\theta,w\\right) &= -M\\left(w\\right)\\exp\\left(\\theta\\right).\\\\\n",
    "\\end{align}\n",
    "$$\n",
    "\n",
    "Note that\n",
    "\n",
    "$$\n",
    "\\exp\\left(\\hat{\\theta}\\right)=\\frac{1}{M(w_1)}.\n",
    "$$\n",
    "\n",
    "Define $w_1 = (1, ...., 1)^T$ to be the vector of unity weights."
   ]
  },
  {
   "cell_type": "markdown",
   "metadata": {},
   "source": [
    "We'll define the domain as $\\Omega_{\\theta}=\\left(\\theta_{min}, \\theta_{max}\\right)$."
   ]
  },
  {
   "cell_type": "markdown",
   "metadata": {},
   "source": [
    "### Assumption 1.\n",
    "\n",
    "In this case, the objective is continuous and infinitely differentiable."
   ]
  },
  {
   "cell_type": "markdown",
   "metadata": {},
   "source": [
    "### Assumption 2.\n",
    "\n",
    "By direct calculation,\n",
    "\n",
    "$$\n",
    "\\begin{align}\n",
    "|H\\left(\\theta, w_1\\right)|^{-1}\t&= \\frac{1}{\\exp\\left(\\theta\\right) M(w_1)} \n",
    "    \\le \\frac{1}{\\exp\\left(\\theta_{min}\\right) M(w_1)}\\Rightarrow \\\\\n",
    "C_{op}&:= \\frac{1}{\\exp\\left(\\theta_{min}\\right) M(w_1)}\n",
    "\\end{align}\n",
    "$$"
   ]
  },
  {
   "cell_type": "markdown",
   "metadata": {},
   "source": [
    "### Assumption 3.\n",
    "\n",
    "We will bound Condition 1 directly without using Corollary 1, so the constants $C_g$ and $C_h$ are not needed."
   ]
  },
  {
   "cell_type": "markdown",
   "metadata": {},
   "source": [
    "### Assumption 4.\n",
    "\n",
    "To calculate $L_h$, we need to choose a window $\\Delta_\\theta$ and upper bound the following quantity:\n",
    "\n",
    "$$\n",
    "\\begin{align}\n",
    "\\sup_{\\theta\\in\\left(\\hat{\\theta}-\\Delta_{\\theta},\\hat{\\theta}+\\Delta_{\\theta}\\right)}\n",
    "    \\frac{\\frac{1}{N} \\left\\Vert h\\left(\\theta\\right)-h\\left(\\hat{\\theta}\\right) \\right\\Vert_{2}^{2}}\n",
    "    {\\left\\Vert \\theta-\\hat{\\theta} \\right\\Vert_{2}^{2}}.\n",
    "\\end{align}\n",
    "$$\n",
    "\n",
    "\n",
    "By convexity of $\\left(\\exp\\left(\\theta\\right)-\\exp\\left(\\hat{\\theta}\\right)\\right)^{2}$, we have\n",
    "\n",
    "$$\n",
    "\\begin{align}\n",
    "\\sup_{\\theta\\in\\left(\\hat{\\theta}-\\Delta_{\\theta},\\hat{\\theta}+\\Delta_{\\theta}\\right)}\n",
    "    \\frac{\\frac{1}{N}\\left\\Vert h\\left(\\theta\\right) - h\\left(\\hat{\\theta}\\right) \\right\\Vert_{2}^{2}}\n",
    "         {\\left\\Vert \\theta-\\hat{\\theta} \\right\\Vert_{2}^{2}}     \n",
    " =& \\sup_{\\theta\\in\\left(\\hat{\\theta}-\\Delta_{\\theta},\\hat{\\theta}+\\Delta_{\\theta}\\right)}\n",
    "    \\frac{\\frac{1}{N} \\sum_{n=1}^N \\left( h_n(\\theta) - h_n(\\hat\\theta)\\right)^2}\n",
    "         {\\left\\Vert \\theta-\\hat{\\theta} \\right\\Vert_{2}^{2}}\t\\\\\n",
    " =& \\sup_{\\theta\\in\\left(\\hat{\\theta}-\\Delta_{\\theta},\\hat{\\theta}+\\Delta_{\\theta}\\right)}\n",
    "    \\frac{\\frac{1}{N} \\sum_{n=1}^N x_n^2 \\left( \\exp(\\theta) - \\exp(\\hat\\theta)\\right)^2}\n",
    "         {\\left\\Vert \\theta-\\hat{\\theta} \\right\\Vert_{2}^{2}}\t\\\\\n",
    " =& S(w_1)   \\sup_{\\theta\\in\\left(\\hat{\\theta}-\\Delta_{\\theta},\\hat{\\theta}+\\Delta_{\\theta}\\right)}\n",
    "    \\frac{\\left(\\exp\\left(\\theta\\right)-\\exp\\left(\\hat{\\theta}\\right)\\right)^{2}}{\\left\\Vert{\\theta-\\hat{\\theta}}\\right\\Vert_{2}^{2}} \\\\\n",
    "=& S(w_1) \\frac{\\left(\\exp\\left(\\hat{\\theta}+\\Delta_{\\theta}\\right)-\\exp\\left(\\hat{\\theta}\\right)\\right)^{2}}{\\Delta_{\\theta}^{2}} \\\\\n",
    "=& S(w_1) \\frac{\\exp\\left(2\\hat{\\theta}\\right)\\left(\\exp\\left(\\Delta_{\\theta}\\right)-1\\right)^{2}}{\\Delta_{\\theta}^{2}}\n",
    "\t\\\\\n",
    "=& \\frac{S(w_1) }{M(w_1)^{2}}\\frac{\\left(\\exp\\left(\\Delta_{\\theta}\\right)-1\\right)^{2}}{\\Delta_{\\theta}^{2}}.\n",
    "\\end{align}\n",
    "$$\n",
    "\n",
    "So we can take\n",
    "\n",
    "$$\n",
    "L_{h}\t=\\frac{\\sqrt{S(w_1)}}{M(w_1)}\\frac{\\left|\\exp\\left(\\Delta_{\\theta}\\right)-1\\right|}{\\Delta_{\\theta}}.\n",
    "$$"
   ]
  },
  {
   "cell_type": "markdown",
   "metadata": {},
   "source": [
    "### Assumption 5.\n",
    "\n",
    "Because we are doing leave-one-out, $\\sum_{n=1}^N (w_n - 1) = 1$ for all weight vectors, and\n",
    "\n",
    "$$\n",
    "C_{w}\t=\\sqrt{\\frac{1}{N}\\sum_{n=1}^{N}\\left(w_{n}-1\\right)^{2}}\n",
    "\t=\\frac{1}{\\sqrt{N}}.\n",
    "$$"
   ]
  },
  {
   "cell_type": "markdown",
   "metadata": {},
   "source": [
    "### The constant $C_{IJ}$.\n",
    "\n",
    "Here, the dimension $D=1$. Combining the above results,\n",
    "\n",
    "$$\n",
    "\\begin{align}\n",
    "C_{IJ}\t=& 1+DC_{w}L_{h}C_{op} \\\\\n",
    "=& 1+1\\cdot\\frac{1}{\\sqrt{N}}\\frac{\\sqrt{S(w_1)}}{M(w_1)}\\frac{\\left|\\exp\\left(\\Delta_{\\theta}\\right)-1\\right|}{\\Delta_{\\theta}}\\frac{\\exp\\left(-\\theta_{min}\\right)}{M(w_1)} \\\\\n",
    "=& 1+\\frac{\\sqrt{S(w_1)}}{\\sqrt{N}M(w_1)^2}\n",
    "    \\frac{\\left|\\exp\\left(\\Delta_{\\theta}\\right)-1\\right|}{\\Delta_{\\theta}}\\exp\\left(-\\theta_{min}\\right)\\\\\n",
    "\\approx& 1+\\frac{\\sqrt{S(w_1)}}{\\sqrt{N}M(w_1)^2}\\left(1+\\frac{1}{2}\\Delta_{\\theta}\\right)\\exp\\left(-\\theta_{min}\\right),\n",
    "\\end{align}\n",
    "$$\n",
    "\n",
    "where the final approximation holds for small $\\Delta_\\theta$ by a Taylor series approximation to $\\exp(\\Delta_\\theta)$. "
   ]
  },
  {
   "cell_type": "markdown",
   "metadata": {},
   "source": [
    "### Condition 1.\n",
    "\n",
    "Define\n",
    "\n",
    "$$\n",
    "x^* = \\max_{n \\in [N]} x_n.\n",
    "$$\n",
    "\n",
    "For leave one out, a gradient complexity bound is\n",
    "\n",
    "$$\n",
    "\\begin{align}\n",
    "\\sup_{w\\in W}\\sup_{\\theta\\in\\Omega_{\\theta}}\n",
    "    \\left| \\frac{1}{N} \\sum_{n=1}^{N}\\left(w_{n}-1\\right)g_{n}\\left(\\theta\\right) \\right| &\\le    \n",
    "\\frac{1}{N}\\sup_{\\theta\\in\\Omega_{\\theta}}\\left\\Vert{g\\left(\\theta\\right)}\\right\\Vert_{\\infty} \\\\\n",
    "&=\\frac{1}{N}\\sup_{\\theta\\in\\Omega_{\\theta}} \\max_{n\\in\\left[N\\right]}\n",
    "    \\left|g_{n}\\left(\\theta\\right)\\right| \\\\\n",
    "&=\\frac{1}{N}\\sup_{\\theta\\in\\Omega_{\\theta}}\\max_{n\\in\\left[N\\right]}\n",
    "    \\left|\\exp\\left(\\theta\\right)x_{n} - 1\\right| \\\\\n",
    "&\\le\\frac{1}{N}\\sup_{\\theta\\in\\Omega_{\\theta}}\\max_{n\\in\\left[N\\right]}\n",
    "    \\left(\\exp\\left(\\theta\\right) x_{n} + 1\\right) \\\\\n",
    "&=\\frac{1}{N}\\left(\n",
    "    \\left( \\sup_{\\theta\\in\\Omega_{\\theta}} \\exp\\left(\\theta\\right) \\right)\n",
    "    \\left(\\max_{n\\in\\left[N\\right]} x_{n} \\right) + 1\n",
    "    \\right) \\\\\n",
    "&=\\frac{1}{N}\\left( \\exp\\left(\\theta_{max}\\right)x^{*} + 1 \\right).\n",
    "\\end{align}\n",
    "$$\n",
    "\n",
    "Similarly, a Hessian complexity bound is given by\n",
    "\n",
    "$$\n",
    "\\begin{align}\n",
    "\\sup_{w\\in W}\\sup_{\\theta\\in\\Omega_{\\theta}}\n",
    "    \\left|\\frac{1}{N}\\sum_{n=1}^{N}\\left(w_{n}-1\\right)h_{n}\\left(\\theta\\right)\\right|\t\\le &\n",
    "\\frac{1}{N}\\sup_{\\theta\\in\\Omega_{\\theta}}\\max_{n\\in\\left[N\\right]}\n",
    "    \\left|\\exp\\left(\\theta\\right)x_{n}\\right| \\\\\n",
    "\\le& \\frac{1}{N}\\exp\\left(\\theta_{max}\\right)x^{*}.\n",
    "\\end{align}\n",
    "$$\n",
    "\n",
    "The gradient bound is always looser than the Hessian bound.  Consequently we can satisfy Condition 1 with\n",
    "\n",
    "$$\n",
    "\\delta\t=\\frac{1}{N}\\left(\\exp\\left(\\theta_{max}\\right)x^{*}+1\\right).\n",
    "$$"
   ]
  },
  {
   "cell_type": "markdown",
   "metadata": {},
   "source": [
    "### Choosing $\\Delta_\\theta$.\n",
    "\n",
    "In order to apply Theorem 1, we will require\n",
    "\n",
    "$$\n",
    "\\begin{align}\n",
    "\\delta\t\\le& \\Delta_{\\theta}C_{op}^{-1}\\\\ \n",
    "=& \\Delta_{\\theta}M(w_1)\\exp\\left(\\theta_{min}\\right)\n",
    "\\end{align}\n",
    "$$\n",
    "\n",
    "and\n",
    "\n",
    "$$\n",
    "\\begin{align}\n",
    "\\delta\t\\le& \\frac{1}{2}C_{IJ}^{-1}C_{op}^{-1} \\\\\n",
    "=& \\frac{1}{2}\\left(1+\\frac{\\sqrt{S(w_1)}}{\\sqrt{N}M(w_1)^2}\\frac{\\left|\\exp\\left(\\Delta_{\\theta}\\right)-1\\right|}{\\Delta_{\\theta}}\\exp\\left(-\\theta_{min}\\right)\\right)M(w_1)\\exp\\left(\\theta_{min}\\right) \\\\\n",
    "=& \\frac{1}{2}\\left(M(w_1)\\exp\\left(\\theta_{min}\\right) +\n",
    "    \\sqrt{\\frac{S(w_1)}{N}}\\frac{1}{M(w_1)}\\frac{\\left|\\exp\\left(\\Delta_{\\theta}\\right)-1\\right|}{\\Delta_{\\theta}}\\right) \\\\\n",
    "\\approx& \\frac{1}{2}\\left(M(w_1)\\exp\\left(\\theta_{min}\\right)+\\sqrt{\\frac{S(w_1)}{N}}\\frac{1}{M(w_1)}\\left(1+\\Delta_{\\theta}\\right)\\right).\n",
    "\\end{align}\n",
    "$$\n",
    "\n",
    "The complexity bound $\\delta$ is set by quantities that don't depend on $\\Delta_\\theta$, and both bounds are unboundedly increasing in $\\Delta_\\theta$, so we can always find a $\\Delta_\\theta$ large enough for Theorem 1 to apply.\n",
    "\n",
    "We expect $\\Delta_\\theta < \\frac{1}{2}$, in which case satisfying the first bound automatically satisfies the second.  Consequently, for simplicity we choose\n",
    "\n",
    "$$\n",
    "\\Delta_\\theta = \\delta C_{op}\n",
    "$$\n",
    "\n",
    "and check that the second bound is satisfied."
   ]
  },
  {
   "cell_type": "markdown",
   "metadata": {},
   "source": [
    "We now implement a function to calculate these quantities."
   ]
  },
  {
   "cell_type": "code",
   "execution_count": 1,
   "metadata": {
    "collapsed": true
   },
   "outputs": [],
   "source": [
    "def get_ij_error_bounds(theta_min, theta_max, x):\n",
    "    ij_error_terms = dict()\n",
    "    \n",
    "    # The objective is determined by these sufficient statistics.\n",
    "    m1 = np.sum(x) / num_obs\n",
    "    s1 = np.sum(x ** 2) / num_obs\n",
    "    x_star = np.max(x)\n",
    "\n",
    "    c_g = np.sqrt(np.exp(2 * theta_max) * s1 + 2 * np.exp(theta_max) * m1 + 1)\n",
    "    c_h = np.sqrt(np.exp(theta_max) * s1)\n",
    "    c_op = np.exp(-1 * theta_min) / m1\n",
    "    c_w = 1 / np.sqrt(num_obs)\n",
    "    d = 1\n",
    "\n",
    "    delta = (np.exp(theta_max) * x_star + 1) / num_obs\n",
    "\n",
    "    delta_theta = delta * c_op + 1e-3\n",
    "    l_h = (np.sqrt(s1) / m1) * np.abs(np.exp(delta_theta) - 1) / delta_theta\n",
    "\n",
    "    # This should be true by construction.\n",
    "    assert delta <= delta_theta / c_op\n",
    "\n",
    "    c_ij = 1 + d * c_w * l_h * c_op\n",
    "    \n",
    "    # This we have to check.\n",
    "    if not delta <=  0.5 / (c_ij * c_op):\n",
    "        err_msg = (\n",
    "            'The IJ bound is invalid -- probably \\\\Omega_\\\\theta is too large.  ' +\n",
    "            '\\n\\nThe bound could be made valid by numerically solving the nonlinear ' +\n",
    "            'equation to find an appropriate \\\\Delta_\\\\theta, but the resulting bound ' +\n",
    "            'would probably be unusably loose.')\n",
    "        raise ValueError(err_msg)\n",
    "\n",
    "    err_bound = 2 * (c_op ** 2) * c_ij * (delta ** 2)\n",
    "    \n",
    "    ij_error_terms['theta_min'] = theta_min\n",
    "    ij_error_terms['theta_max'] = theta_max\n",
    "    ij_error_terms['c_g'] = c_g\n",
    "    ij_error_terms['c_h'] = c_h\n",
    "    ij_error_terms['c_op'] = c_op\n",
    "    ij_error_terms['c_w'] = c_w\n",
    "    ij_error_terms['d'] = d\n",
    "    ij_error_terms['delta'] = delta\n",
    "    ij_error_terms['delta_theta'] = delta_theta\n",
    "    ij_error_terms['l_h'] = l_h\n",
    "    ij_error_terms['c_ij'] = c_ij\n",
    "    ij_error_terms['err_bound'] = err_bound\n",
    "\n",
    "    return ij_error_terms\n",
    "\n",
    "\n",
    "def print_error_bounds(ij_error_terms):\n",
    "    for k, v in ij_error_terms.items():\n",
    "        print('{:>15} = {}'.format(k, v))"
   ]
  },
  {
   "cell_type": "markdown",
   "metadata": {},
   "source": [
    "We take an initial guess at $\\Omega_\\theta$ based on the asymptotic variance.  We will check and refine this guess below."
   ]
  },
  {
   "cell_type": "code",
   "execution_count": 19,
   "metadata": {},
   "outputs": [
    {
     "name": "stdout",
     "output_type": "stream",
     "text": [
      "theta standard deviation:  0.009999999999999992\n",
      "    delta_theta = 0.001924211999161428\n",
      "           c_ij = 1.014367090569904\n",
      "      theta_min = -2.316100947805593\n",
      "            c_g = 2.2584434791197654\n",
      "              d = 1\n",
      "           c_op = 1.0202013400267542\n",
      "            l_h = 1.4082603115897883\n",
      "            c_w = 0.01\n",
      "            c_h = 4.479194963653396\n",
      "          delta = 0.0009059113754322172\n",
      "      theta_max = -2.276100947805593\n",
      "      err_bound = 1.7328794516341878e-06\n"
     ]
    }
   ],
   "source": [
    "h1 = num_obs * autograd.hessian(lambda theta: eval_log_loss(theta, w1, x))(theta_opt)\n",
    "theta_sd = np.sqrt(1 / h1)\n",
    "print('theta standard deviation: ', theta_sd)\n",
    "\n",
    "theta_min = theta_opt - 2 * theta_sd\n",
    "theta_max = theta_opt + 2 * theta_sd\n",
    "\n",
    "ij_error_terms = get_ij_error_bounds(theta_min, theta_max, x)\n",
    "print_error_bounds(ij_error_terms)"
   ]
  },
  {
   "cell_type": "markdown",
   "metadata": {},
   "source": [
    "Now, we check that the bounds capture the true error and that $\\hat\\theta(w)$ is entirely contained in $\\Omega_\\theta$.  Let $\\epsilon$  denote the error bound.  Note that the latter condition can be checked _without calculating $\\hat\\theta(w)$_ using the fact that, by the triangle inequality,\n",
    "\n",
    "$$\n",
    "\\begin{align}\n",
    "|\\hat\\theta(w) - \\hat\\theta)| <& |\\hat\\theta_{IJ}(w) - \\hat\\theta)| + \\epsilon.\n",
    "\\end{align}\n",
    "$$\n",
    "\n",
    "If the quantities on the right hand side are all contained in $\\Omega_\\theta$, then so is $\\hat\\theta(\\tilde{w})$ for all $\\tilde{w}$ such that $\\left\\Vert \\tilde{w} - 1 \\right\\Vert_2 \\le \\left\\Vert w - w_1 \\right\\Vert_2$.  This is all that is needed of $\\Omega_\\theta$ in Theorem 1."
   ]
  },
  {
   "cell_type": "code",
   "execution_count": 16,
   "metadata": {},
   "outputs": [
    {
     "name": "stdout",
     "output_type": "stream",
     "text": [
      "Omega sufficient:\t True\n",
      "Error bound sufficient:\t True\n",
      "Max error bound ratio:\t 0.17726400803835377\n"
     ]
    },
    {
     "data": {
      "image/png": "[encoded data removed]",
      "text/plain": [
       "<Figure size 432x288 with 1 Axes>"
      ]
     },
     "metadata": {},
     "output_type": "display_data"
    }
   ],
   "source": [
    "def check_error_bound(theta_ij, theta_cv, ij_error_terms, plot=False):\n",
    "    err_bound = ij_error_terms['err_bound']\n",
    "    \n",
    "    omega_sufficient = np.all(np.logical_and(\n",
    "              theta_ij <= ij_error_terms['theta_max'],\n",
    "              theta_ij >= ij_error_terms['theta_min']))\n",
    "    print('Omega sufficient:\\t', omega_sufficient)\n",
    "    \n",
    "    err = theta_cv - theta_ij\n",
    "    bound_sufficient = np.all(np.abs(err) < err_bound)\n",
    "    print('Error bound sufficient:\\t', bound_sufficient)\n",
    "    print('Max error bound ratio:\\t', np.max(np.abs(err) / err_bound))\n",
    "    \n",
    "    if plot:\n",
    "        plt.hist(err / err_bound);\n",
    "        plt.title('Ratio of error to uniform bound');\n",
    "    \n",
    "    return bound_sufficient and omega_sufficient\n",
    "\n",
    "assert check_error_bound(theta_ij, theta_cv, ij_error_terms, plot=True)"
   ]
  },
  {
   "cell_type": "markdown",
   "metadata": {},
   "source": [
    "# Optimially choosing the size of $\\Omega_\\theta$.\n",
    "\n",
    "As is clear from the above discussion and the definition of the function ``get_ij_error_bounds``, we have a map from the bounds $(\\theta_{min}, \\theta_{max}) \\mapsto \\epsilon$, where $|\\hat\\theta_{IJ}(w) - \\hat\\theta(w)| < \\epsilon$.  Tigher bounds on $\\theta$ lead to a smaller $\\epsilon$.   If we find that the original choice of $\\Omega_\\theta$ is larger than necessary, we can reduce its size, potentially decreasing the error bound."
   ]
  },
  {
   "cell_type": "code",
   "execution_count": 17,
   "metadata": {
    "collapsed": true
   },
   "outputs": [],
   "source": [
    "# We can potentially decrease the size of \\Omega_\\theta.\n",
    "def get_implied_omega_theta(theta_ij, ij_error_terms):\n",
    "    err_bound = ij_error_terms['err_bound']\n",
    "    pred_theta_max = np.max(theta_ij) + err_bound\n",
    "    pred_theta_min = np.min(theta_ij) - err_bound\n",
    "    return (pred_theta_min, pred_theta_max)"
   ]
  },
  {
   "cell_type": "code",
   "execution_count": 18,
   "metadata": {},
   "outputs": [
    {
     "name": "stdout",
     "output_type": "stream",
     "text": [
      "Original Omega_theta:\t(-2.316100947805593, -2.276100947805593)\n",
      "\n",
      "\n",
      "Implied Omega_theta:\t(-2.316100947805593, -2.276100947805593)\n",
      "Bound change: 0.03920659533492721\n",
      "Results for new bounds:\n",
      "Omega sufficient:\t True\n",
      "Error bound sufficient:\t True\n",
      "Max error bound ratio:\t 0.19095411598165413\n",
      "\n",
      "\n",
      "Implied Omega_theta:\t(-2.296202666330213, -2.29540926166514)\n",
      "Bound change: 0.0\n",
      "Results for new bounds:\n",
      "Omega sufficient:\t True\n",
      "Error bound sufficient:\t True\n",
      "Max error bound ratio:\t 0.19095411598165413\n"
     ]
    }
   ],
   "source": [
    "bound_change = float('inf')\n",
    "tol = 1e-4\n",
    "pred_theta_min = theta_min\n",
    "pred_theta_max = theta_max\n",
    "print('Original Omega_theta:\\t{}'.format((pred_theta_min, pred_theta_max)))\n",
    "while bound_change > tol:\n",
    "    print('\\n')\n",
    "    new_pred_theta_min, new_pred_theta_max = get_implied_omega_theta(theta_ij, ij_error_terms)\n",
    "    print('Implied Omega_theta:\\t{}'.format((pred_theta_min, pred_theta_max)))\n",
    "    bound_change = np.abs(new_pred_theta_min - pred_theta_min) + np.abs(new_pred_theta_max - pred_theta_max)\n",
    "    print('Bound change: {}'.format(bound_change))\n",
    "    pred_theta_min = new_pred_theta_min\n",
    "    pred_theta_max = new_pred_theta_max\n",
    "    new_ij_error_terms = get_ij_error_bounds(pred_theta_min, pred_theta_max, x)\n",
    "\n",
    "    print('Results for new bounds:')\n",
    "    bounds_ok = check_error_bound(theta_ij, theta_cv, new_ij_error_terms)\n",
    "    if not bounds_ok:\n",
    "        print('################\\nBounds not ok -- terminating.')\n",
    "        bound_change = 0\n"
   ]
  }
 ],
 "metadata": {
  "kernelspec": {
   "display_name": "Python 3",
   "language": "python",
   "name": "python3"
  },
  "language_info": {
   "codemirror_mode": {
    "name": "ipython",
    "version": 3
   },
   "file_extension": ".py",
   "mimetype": "text/x-python",
   "name": "python",
   "nbconvert_exporter": "python",
   "pygments_lexer": "ipython3",
   "version": "3.5.2"
  }
 },
 "nbformat": 4,
 "nbformat_minor": 2
}
