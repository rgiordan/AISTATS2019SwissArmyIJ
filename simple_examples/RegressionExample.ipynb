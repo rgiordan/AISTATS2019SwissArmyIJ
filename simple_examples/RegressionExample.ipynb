{
 "cells": [
  {
   "cell_type": "markdown",
   "metadata": {},
   "source": [
    "# Regression\n",
    "\n",
    "In this notebook, we calculate the Swiss Army infinitsimal jackknife error bounds for linear regression.\n",
    "\n",
    "This example illustrates at least one way in which dimension dependence can occur implicitly in the error bound of Theorem 1."
   ]
  },
  {
   "cell_type": "code",
   "execution_count": 1,
   "metadata": {
    "collapsed": true
   },
   "outputs": [],
   "source": [
    "import autograd\n",
    "import autograd.numpy as np\n",
    "import scipy as sp\n",
    "import paragami\n",
    "import vittles\n",
    "\n",
    "from tqdm import tqdm \n",
    "import time\n",
    "\n",
    "import matplotlib.pyplot as plt\n",
    "%matplotlib inline"
   ]
  },
  {
   "cell_type": "code",
   "execution_count": 2,
   "metadata": {
    "collapsed": true
   },
   "outputs": [],
   "source": [
    "# A convenience function to visually compare two variables.\n",
    "def comparison_plot(x, y):\n",
    "    plt.plot(x, x, 'k')\n",
    "    plt.plot(x, y, 'r.')"
   ]
  },
  {
   "cell_type": "markdown",
   "metadata": {},
   "source": [
    "## Generate data and calculate IJ."
   ]
  },
  {
   "cell_type": "markdown",
   "metadata": {},
   "source": [
    "First, generate some data according to a linear regression model."
   ]
  },
  {
   "cell_type": "code",
   "execution_count": 3,
   "metadata": {},
   "outputs": [],
   "source": [
    "def generate_data(num_obs, dim, sigma):\n",
    "    \"\"\" Generate linear regression data.\n",
    "    \n",
    "    Args\n",
    "    ------\n",
    "    num_obs: The number of data points\n",
    "    dim:     The dimension of the regressors\n",
    "    sigma:   The standard deviation of the residuals\n",
    "    \n",
    "    Returns\n",
    "    --------\n",
    "    x, y, theta_true: Data y and x for y ~ theta_true * x.\n",
    "    \"\"\"\n",
    "    theta_true = np.linspace(0, 1, dim)\n",
    "    x = np.random.random((num_obs, dim)) - 0.5\n",
    "    y = np.random.normal(x @ theta_true, sigma, num_obs)\n",
    "    return x, y, theta_true\n",
    "\n",
    "dim = 5\n",
    "sigma = 0.5\n",
    "num_obs = dim * 100\n",
    "\n",
    "x, y, theta_true = generate_data(num_obs, dim, sigma)"
   ]
  },
  {
   "cell_type": "markdown",
   "metadata": {},
   "source": [
    "First, we specify the weighted regression loss function.  In this case, the optimum is available in closed form.  For convenience we implement the closed form optimum and test that it matches the optimum of the loss function."
   ]
  },
  {
   "cell_type": "code",
   "execution_count": 4,
   "metadata": {},
   "outputs": [
    {
     "name": "stdout",
     "output_type": "stream",
     "text": [
      "Iter 0: f = 0.12766380\n",
      "Iter 1: f = 0.12680524\n",
      "Optimization terminated successfully.\n"
     ]
    }
   ],
   "source": [
    "def eval_log_loss(theta, w, x, y):\n",
    "    resid = y - x @ theta\n",
    "    log_lik = -0.5 * np.sum(w * (resid ** 2)) / num_obs\n",
    "    return -1 * log_lik\n",
    "\n",
    "def get_optimum(w, x, y):\n",
    "    xtx = (w[:, None] * x).T @ x\n",
    "    xty = (w[:, None] * x).T @ y\n",
    "    return np.linalg.solve(xtx, xty)\n",
    "\n",
    "# Test the loss function and optimum with random weights.\n",
    "w = np.ones(num_obs) + 0.1 * (np.random.random(num_obs) - 0.5)\n",
    "\n",
    "log_loss_objective = paragami.OptimizationObjective(\n",
    "    lambda theta: eval_log_loss(theta, w, x, y))\n",
    "\n",
    "opt = sp.optimize.minimize(\n",
    "    fun=log_loss_objective.f,\n",
    "    jac=log_loss_objective.grad,\n",
    "    hess=log_loss_objective.hessian,\n",
    "    method='trust-exact',\n",
    "    x0=theta_true,\n",
    "    options={'gtol': 1e-12})\n",
    "print(opt.message)\n",
    "\n",
    "assert(np.linalg.norm(opt.x - get_optimum(w, x, y)) / dim < 1e-8)"
   ]
  },
  {
   "cell_type": "markdown",
   "metadata": {},
   "source": [
    "Get the initial optimum at the vector of unity weights."
   ]
  },
  {
   "cell_type": "code",
   "execution_count": 5,
   "metadata": {
    "collapsed": true
   },
   "outputs": [],
   "source": [
    "w1 = np.ones(num_obs)\n",
    "theta_opt = get_optimum(w1, x, y)"
   ]
  },
  {
   "cell_type": "markdown",
   "metadata": {},
   "source": [
    "Define an IJ predictor using ``vittles``."
   ]
  },
  {
   "cell_type": "code",
   "execution_count": 6,
   "metadata": {
    "collapsed": true
   },
   "outputs": [],
   "source": [
    "ij_predictor = \\\n",
    "    vittles.HyperparameterSensitivityLinearApproximation(\n",
    "        lambda theta, w: eval_log_loss(theta, w, x, y),\n",
    "        opt_par_value=theta_opt,\n",
    "        hyper_par_value=w1)"
   ]
  },
  {
   "cell_type": "markdown",
   "metadata": {},
   "source": [
    "Get the IJ predictions and exact CV for a range of weights."
   ]
  },
  {
   "cell_type": "code",
   "execution_count": 7,
   "metadata": {},
   "outputs": [
    {
     "name": "stderr",
     "output_type": "stream",
     "text": [
      "100%|██████████| 500/500 [00:00<00:00, 15637.90it/s]\n"
     ]
    },
    {
     "data": {
      "image/png": "[encoded data removed]",
      "text/plain": [
       "<Figure size 432x288 with 1 Axes>"
      ]
     },
     "metadata": {},
     "output_type": "display_data"
    }
   ],
   "source": [
    "theta_ij = np.full((num_obs, dim), float('nan'))\n",
    "theta_cv = np.full((num_obs, dim), float('nan'))\n",
    "\n",
    "ij_time = 0\n",
    "cv_time = 0\n",
    "\n",
    "w_loo = np.ones(num_obs)\n",
    "for n in tqdm(range(num_obs)):\n",
    "    w_loo[n] = 0\n",
    "    tic = time.time()\n",
    "    theta_ij[n, :] = ij_predictor.predict_opt_par_from_hyper_par(w_loo)\n",
    "    ij_time = ij_time + time.time() - tic\n",
    "\n",
    "    tic = time.time()\n",
    "    theta_cv[n, :] = get_optimum(w_loo, x, y)\n",
    "    cv_time = cv_time + time.time() - tic\n",
    "\n",
    "    w_loo[n] = 1\n",
    "\n",
    "comparison_plot(theta_cv - theta_opt[None, :], theta_ij - theta_opt[None, :])"
   ]
  },
  {
   "cell_type": "markdown",
   "metadata": {},
   "source": [
    "The IJ is faster even than the closed form optimum, though, to be fair, the closed form optimum could be made more efficient by caching $(X^T X)^{-1}$ and using the Woodbury matrix identity."
   ]
  },
  {
   "cell_type": "code",
   "execution_count": 8,
   "metadata": {},
   "outputs": [
    {
     "name": "stdout",
     "output_type": "stream",
     "text": [
      "IJ time: 0.00426483154296875\n",
      "CV time: 0.026402711868286133\n"
     ]
    }
   ],
   "source": [
    "print('IJ time: {}'.format(ij_time))\n",
    "print('CV time: {}'.format(cv_time))"
   ]
  },
  {
   "cell_type": "markdown",
   "metadata": {},
   "source": [
    "## Error bound calculation."
   ]
  },
  {
   "cell_type": "markdown",
   "metadata": {},
   "source": [
    "Now we calculate bounds on the error of the IJ approximation.  The objective function and its derivatives are\n",
    "\n",
    "$$\n",
    "\\begin{align}\n",
    "\\ell\\left(x_{n},\\theta\\right)\t&=-\\frac{1}{2}\\left(y_{n}-\\theta^{T}x_{n}\\right)^{2} \\\\\n",
    "g_{n}\\left(\\theta\\right)\t&=\\left(y_{n}-\\theta^{T}x_{n}\\right)x_{n} \\\\\n",
    "h_{n}\\left(\\theta\\right)\t&=-x_{n}x_{n}^{T}. \\\\\n",
    "\\end{align}\n",
    "$$"
   ]
  },
  {
   "cell_type": "markdown",
   "metadata": {},
   "source": [
    "We will define $\\Omega_\\theta$ as a ball of radius $b$ centered at $\\hat\\theta$.  The letter $b$ is for \"bound\".\n",
    "\n",
    "$$\n",
    "\\Omega_{\\theta} =\\left\\{ \\theta: \\left\\Vert \\theta-\\hat{\\theta} \\right\\Vert_{2}\\le b\\right\\}.\n",
    "$$"
   ]
  },
  {
   "cell_type": "markdown",
   "metadata": {},
   "source": [
    "For notational convenience, we additionally define the following quantities.\n",
    "\n",
    "$$\n",
    "\\begin{align}\n",
    "R\t=& \\frac{1}{N}\\sum_{n=1}^{N}y_{n}x_{n}\\\\\n",
    "S\t=& \\frac{1}{N}\\sum_{n=1}^{N}x_{n}x_{n}^{T}.\n",
    "\\end{align}\n",
    "$$\n",
    "\n",
    "\n",
    "In this notation,\n",
    "\n",
    "$$\n",
    "\\begin{align}\n",
    "G\\left(\\theta\\right)\t&=\n",
    "    \\frac{1}{N}\\sum_{n=1}^{N}\\left(y_{n}-\\theta^{T}x_{n}\\right)x_{n} \\\\\n",
    "\t&=R-S\\theta\\\\\n",
    "\\end{align}\n",
    "$$\n",
    "\n",
    "and\n",
    "\n"
   ]
  },
  {
   "cell_type": "markdown",
   "metadata": {},
   "source": [
    "### Assumption 1.\n",
    "\n",
    "Assumption 1 is certainly satisfied -- indeed, $g_n(\\theta)$ is linear."
   ]
  },
  {
   "cell_type": "markdown",
   "metadata": {},
   "source": [
    "### Assumption 2.\n",
    "\n",
    "We have\n",
    "\n",
    "$$\n",
    "H\\left(\\theta\\right)\t=-S.\n",
    "$$\n",
    "\n",
    "Consequently,\n",
    "\n",
    "$$\n",
    "C_{op} =1/\\lambda_{min}\\left(S\\right).\n",
    "$$\n",
    "\n",
    "In this case, $C_{op}$ is a function of the data alone, and not of the parameter $\\theta$.  It can be readily calculated from the data."
   ]
  },
  {
   "cell_type": "markdown",
   "metadata": {},
   "source": [
    "### Assumption 3.\n",
    "\n",
    "We will not require the constants $C_g$ and $C_h$ from assumption 3 here.  As shown below, instead of using Corollary 1, it will be more convienct to control the supremum in Condition 1 directly."
   ]
  },
  {
   "cell_type": "markdown",
   "metadata": {},
   "source": [
    "### Assumption 4.\n",
    "\n",
    "Because $h_n(\\theta) = - x_n x_n ^T$ does not depend on $\\theta$, we can effectively take $\\Delta_\\theta = \\infty$ and $L_h = 0$."
   ]
  },
  {
   "cell_type": "markdown",
   "metadata": {},
   "source": [
    "### Assumption 5.\n",
    "\n",
    "Because $L_h = 0$, we will not need $C_w$ in this case."
   ]
  },
  {
   "cell_type": "markdown",
   "metadata": {},
   "source": [
    "### Condition 1.\n",
    "\n",
    "We will calculate bounds separately for the gradient and Hessian complexity, called $\\delta_g$ and $\\delta_h$ respectively, and take \n",
    "\n",
    "$$\n",
    "\\delta = \\max\\{\\delta_g, \\delta_g\\}.\n",
    "$$"
   ]
  },
  {
   "cell_type": "markdown",
   "metadata": {},
   "source": [
    "### Condition 1 for the Hessian.\n",
    "\n",
    "We are considering leave one out, so\n",
    "\n",
    "$$\n",
    "\\begin{align}\n",
    "\\sup_{w \\in W_\\delta} \\sup_{\\theta\\in\\Omega_{\\theta}} \n",
    "\\left \\Vert\n",
    "\\frac{1}{N} (w_n - 1) h_n(\\theta)\n",
    "\\right \\Vert_1\n",
    " = \\frac{1}{N} \\sup_{n \\in [N]} \\sup_{\\theta\\in\\Omega_{\\theta}}\\left\\Vert h_{n}\\left(\\theta\\right) \\right\\Vert_{1}.\n",
    "\\end{align}\n",
    "$$\n",
    "\n",
    "Now, \n",
    "\n",
    "$$\n",
    "\\begin{align}\n",
    "\\sup_{\\theta\\in\\Omega_{\\theta}}\\left\\Vert h_{n}\\left(\\theta\\right) \\right\\Vert_{1}\n",
    "    &=\\sup_{\\theta\\in\\Omega_{\\theta}}\\left\\Vert x_{n}x_{n}^{T} \\right\\Vert_{1} \\\\\n",
    "\t&=\\sum_{d_{1},d_{2}}\\left|x_{nd_{1}}x_{nd_{2}}\\right| \\\\\n",
    "\t&=\\sum_{d_{1}}\\sum_{d_{2}}\\left|x_{nd_{1}}\\right|\\left|x_{nd_{2}}\\right| \\\\\n",
    "\t&=\\left\\Vert x_{n} \\right\\Vert_{1}^{2}.\n",
    "\\end{align}\n",
    "$$\n",
    "\n",
    "so we define\n",
    "\n",
    "$$\n",
    "\\delta_h = \\frac{1}{N} \\sup_{n \\in [N]} \\left\\Vert x_{n} \\right\\Vert_{1}^{2}\n",
    "$$\n",
    "\n",
    "If we were using leave-k-out, one could apply the triangle inequalty to get an upper bound of the sum of the top k values of $\\left\\Vert x_{n} \\right\\Vert_{1}^{2}$.\n"
   ]
  },
  {
   "cell_type": "markdown",
   "metadata": {},
   "source": [
    "### Condition 1 for the gradient.\n",
    "\n",
    "As with the Hessian,\n",
    "\n",
    "$$\n",
    "\\begin{align}\n",
    "\\sup_{w \\in W_\\delta} \\sup_{\\theta\\in\\Omega_{\\theta}} \n",
    "\\left \\Vert\n",
    "\\frac{1}{N} (w_n - 1) g_n(\\theta)\n",
    "\\right \\Vert_1\n",
    " = \\frac{1}{N} \\sup_{n \\in [N]} \\sup_{\\theta\\in\\Omega_{\\theta}}\\left\\Vert g_{n}\\left(\\theta\\right) \\right\\Vert_{1}.\n",
    "\\end{align}\n",
    "$$\n",
    "\n",
    "Now,\n",
    "\n",
    "$$\n",
    "\\begin{align}\n",
    "\\sup_{\\theta\\in\\Omega_{\\theta}} \\left\\Vert g_{n}\\left(\\theta\\right) \\right\\Vert_{1}\n",
    "    &=\\sup_{\\theta\\in\\Omega_{\\theta}}\n",
    "    \\left\\Vert \\left(y_{n} - \\theta^{T}x_{n}\\right)x_{n} \\right\\Vert_{1} \\\\\n",
    "    &= \\left\\Vert x_{n} \\right \\Vert_{1} \\sup_{\\theta\\in\\Omega_{\\theta}}\\left|y_{n}-x_{n}^{T}\\theta\\right|.\n",
    "\\end{align}\n",
    "$$\n",
    "\n",
    "To control this, we need to control each terms' largest residual for $\\theta\\in\\Omega_{\\theta}$.  We can get a bound that takes advantage of the fact that $\\Omega_\\theta$ is centered at $\\hat\\theta$ as follows:\n",
    "\n",
    "$$\n",
    "\\begin{align}\n",
    "\\sup_{\\theta\\in\\Omega_{\\theta}}\\left|y_{n}-x_{n}^{T}\\theta\\right|\t&=\n",
    "    \\sup_{\\theta\\in\\Omega_{\\theta}}\n",
    "        \\left|y_{n}-x_{n}^{T}\\left(\\left(\\theta-\\hat{\\theta}\\right)+\\hat{\\theta}\\right)\\right|  \\\\  \n",
    "&\\le \\left|y_{n}-x_{n}^{T} \\hat{\\theta}\\right| +\n",
    "    \\sup_{\\theta\\in\\Omega_{\\theta}}\\left|x_{n}^{T}\\left(\\theta-\\hat{\\theta}\\right)\\right| \\\\\n",
    "& \\le \\left|y_{n}-x_{n}^{T}\\hat{\\theta}\\right| +\n",
    "     \\left\\Vert x_{n} \\right\\Vert_{2}\n",
    "         \\sup_{\\theta\\in\\Omega_{\\theta}} \\left\\Vert \\theta-\\hat{\\theta} \\right\\Vert_{2} \\\\\n",
    "& = \\left|y_{n}-x_{n}^{T}\\hat{\\theta}\\right| + \\left\\Vert x_{n} \\right\\Vert_{2}b.\n",
    "\\end{align}\n",
    "$$\n",
    "\n",
    "Putting this together,\n",
    "\n",
    "$$\n",
    "\\delta_g = \\frac{1}{N} \\max_{n \\in [N]}\n",
    "    \\left\\Vert x_{n} \\right \\Vert_{1}\n",
    "        \\left( \\left|y_{n}-x_{n}^{T}\\hat{\\theta}\\right| + \\left\\Vert x_{n} \\right\\Vert_{2}b \\right)\n",
    "$$\n",
    "\n",
    "Again, if we were using leave-k-out, the triangle inequality would give as a bound the sum of the top k such values.\n"
   ]
  },
  {
   "cell_type": "markdown",
   "metadata": {},
   "source": [
    "### Theorem 1.\n",
    "\n",
    "In this case, with $L_h = 0$ the error bound reduces to\n",
    "\n",
    "$$\n",
    "\\begin{align}\n",
    "\\delta \\le & \\frac{1}{2} C_{op}^{-1} \\Rightarrow \\\\\n",
    "\\max_{w \\in W_\\delta} \\left\\Vert \n",
    "    \\hat\\theta_{IJ}(w) - \\hat\\theta(w) \\right\\Vert_2 \\le &\n",
    "2 C_{op}^2 \\delta^2\n",
    "\\end{align}\n",
    "$$"
   ]
  },
  {
   "cell_type": "markdown",
   "metadata": {},
   "source": [
    "## A note on dimension dependence in Theorem 1.\n",
    "\n",
    "In order for Theorem 1 to apply, we must have $\\delta \\le \\Delta_\\delta$.  In this case, that means that\n",
    "\n",
    "$$\n",
    "\\begin{align}\n",
    "\\delta &\\le \\frac{1}{2} C_{op}^{-1} \\Leftrightarrow \\\\\n",
    "\\frac{1}{N} \\max_{n \\in [N]} \\left( \\max \\{\n",
    "    \\left\\Vert x_{n} \\right \\Vert_{1}^2 \\} ,\n",
    "    \\left\\Vert x_{n} \\right \\Vert_{1}\n",
    "        \\left( \\left|y_{n}-x_{n}^{T}\\hat{\\theta}\\right| + \\left\\Vert x_{n} \\right\\Vert_{2}b \\right)\n",
    "    \\right)\n",
    "&\\le \\frac{\\lambda_{min}\\left(S\\right)}{2}  \n",
    "\\end{align}\n",
    "$$\n",
    "\n",
    "Depending on the values of $x_n$, this condition is not guaranteed to hold.  In particular, the matrix $S$ may be very nearly singular due to colinearity, e.g., due to having two nearly identical regressors.  In this case, the right hand side would be very small, but the left hand side may not necessarily be small.  And, indeed, in such a case we may not expect the IJ to work well.\n",
    "\n",
    "More generally, we note that the bound on $\\delta$ increases  with the dimension $D$ (roughly linearly if the elements of $x_n$ are IID), but that $C_{op}^{-1}$ may plausibly remain the same or even decrease as dimension increases.  Consequently, for a fixed $N$, as $D$ increases the bound of Theorem 1  eventually may not apply in general.\n",
    "\n",
    "Even when $\\delta \\le \\Delta_\\delta$ and Theorem 1 applies, we certainly expect the bound $C_{op} ^ 2 \\delta^2$ to increase as the dimension increases with all else fixed."
   ]
  },
  {
   "cell_type": "markdown",
   "metadata": {},
   "source": [
    "# Calculating and checking the bounds.\n",
    "\n",
    "We now define a functions that calculate and report the error bounds."
   ]
  },
  {
   "cell_type": "code",
   "execution_count": 9,
   "metadata": {
    "collapsed": true
   },
   "outputs": [],
   "source": [
    "def print_error_bounds(ij_error_terms):\n",
    "    for k, v in ij_error_terms.items():\n",
    "        print('{:>15} = {}'.format(k, v))\n",
    "\n",
    "\n",
    "def get_ij_error_bounds(x, y, theta_width):\n",
    "    num_obs = x.shape[0]\n",
    "    d = x.shape[1]\n",
    "\n",
    "    s_mat = x.T @ x / num_obs\n",
    "    c_op = 1 / np.min(np.linalg.eigvals(s_mat))\n",
    "\n",
    "    # Because L_h = 0, C_{ij} has a simple form.\n",
    "    c_ij = 1.0\n",
    "\n",
    "    x_l1_vec = np.sum(np.abs(x), axis=1)\n",
    "    x_l2_vec = np.linalg.norm(x, axis=1)\n",
    "    resid = y - x @ theta_opt\n",
    "\n",
    "    delta_g = x_l1_vec * (np.abs(resid) + theta_width * x_l2_vec) / num_obs\n",
    "    delta_h = (x_l1_vec ** 2)  / num_obs\n",
    "\n",
    "    # It is interesting to know whether the Hessian complexity or\n",
    "    # gradient complexity is bounding.  This is particuarly true\n",
    "    # because one could work harder to get a better bound on the gradient\n",
    "    # complexity if necessary.\n",
    "    print('Proportion where delta_h dominates: ', np.sum(delta_h > delta_g) / num_obs)\n",
    "\n",
    "    delta = np.max(np.vstack([delta_g, delta_h]))\n",
    "\n",
    "    delta_delta = 0.5 / (c_ij * c_op)\n",
    "    err_bound = 2 * (c_op ** 2) * c_ij * delta ** 2\n",
    "\n",
    "    ij_error_terms = dict()\n",
    "    \n",
    "    ij_error_terms['theta_width'] = theta_width\n",
    "    ij_error_terms['c_op'] = c_op\n",
    "    ij_error_terms['d'] = d\n",
    "    ij_error_terms['delta_h'] = np.max(delta_h)\n",
    "    ij_error_terms['delta_g'] = np.max(delta_g)\n",
    "    ij_error_terms['delta'] = delta\n",
    "    ij_error_terms['delta_delta'] = delta_delta\n",
    "    ij_error_terms['c_ij'] = c_ij\n",
    "    ij_error_terms['err_bound'] = err_bound\n",
    "\n",
    "    if delta > delta_delta:\n",
    "        print('\\n\\n#############\\nWarning: delta is not small enough to apply theorem 1.\\n')\n",
    "        ij_error_terms['valid'] = False\n",
    "    else:\n",
    "        ij_error_terms['valid'] = True\n",
    "\n",
    "    return ij_error_terms"
   ]
  },
  {
   "cell_type": "markdown",
   "metadata": {},
   "source": [
    "Let's take a guess at a size for $\\Omega_\\theta$ based on the asymptotic covariance."
   ]
  },
  {
   "cell_type": "code",
   "execution_count": 10,
   "metadata": {},
   "outputs": [
    {
     "name": "stdout",
     "output_type": "stream",
     "text": [
      "Using b = 0.3158523319701689\n"
     ]
    }
   ],
   "source": [
    "obj_hessian = autograd.hessian(lambda theta: eval_log_loss(theta, w1, x, y))(theta_opt)\n",
    "theta_cov = np.linalg.inv(num_obs * obj_hessian)\n",
    "theta_width = 2 * np.max(np.sqrt(np.diag(theta_cov)))\n",
    "\n",
    "print('Using b = {}'.format(theta_width))"
   ]
  },
  {
   "cell_type": "code",
   "execution_count": 11,
   "metadata": {},
   "outputs": [
    {
     "name": "stdout",
     "output_type": "stream",
     "text": [
      "Proportion where delta_h dominates:  0.0\n",
      "        delta_h = 0.009138630905725151\n",
      "    theta_width = 5.0\n",
      "          valid = True\n",
      "    delta_delta = 0.036717785329702116\n",
      "              d = 5\n",
      "        delta_g = 0.021823815050962876\n",
      "           c_op = 13.617379030633828\n",
      "           c_ij = 1.0\n",
      "          delta = 0.021823815050962876\n",
      "      err_bound = 0.1766356628910031\n"
     ]
    }
   ],
   "source": [
    "# theta_width is b in the derivation.\n",
    "# Note that, in the regime where the Hessian complexity dominates, changing \n",
    "# theta_width has no effect on the error bounds.\n",
    "theta_width = 5.0\n",
    "\n",
    "ij_error_terms = get_ij_error_bounds(x, y, theta_width)\n",
    "print_error_bounds(ij_error_terms)"
   ]
  },
  {
   "cell_type": "markdown",
   "metadata": {},
   "source": [
    "First, confirm that $\\Omega_\\theta$ was chosen to be large enough."
   ]
  },
  {
   "cell_type": "code",
   "execution_count": 12,
   "metadata": {},
   "outputs": [
    {
     "name": "stdout",
     "output_type": "stream",
     "text": [
      "\\Omega_{\\theta} is big enough to capture the observed changes.\n"
     ]
    },
    {
     "data": {
      "image/png": "[encoded data removed]",
      "text/plain": [
       "<Figure size 432x288 with 1 Axes>"
      ]
     },
     "metadata": {},
     "output_type": "display_data"
    }
   ],
   "source": [
    "err_bound = ij_error_terms['err_bound']\n",
    "theta_ij_diff = theta_ij - theta_opt\n",
    "theta_diff_norm = np.linalg.norm(theta_ij_diff + np.sign(theta_ij_diff) * err_bound, axis=1)\n",
    "plt.hist(theta_diff_norm / theta_width);\n",
    "if np.max(theta_diff_norm / theta_width) > 1:\n",
    "    print('###############\\n Warning: \\\\Omega_\\\\theta is too small.  The results may not be valid.')\n",
    "    print('Increase ``theta_width`` and try again.')\n",
    "else:\n",
    "    print('\\\\Omega_{\\\\theta} is big enough to capture the observed changes.')"
   ]
  },
  {
   "cell_type": "markdown",
   "metadata": {},
   "source": [
    "We confirm that the error bounds capture the actual errors.  Ideally, the actual errors would be an appreciable proprotion of the error bounds, though this is not always the case."
   ]
  },
  {
   "cell_type": "code",
   "execution_count": 24,
   "metadata": {},
   "outputs": [
    {
     "name": "stdout",
     "output_type": "stream",
     "text": [
      "Error bound ratio (should be less than one):  0.00111628464567661\n"
     ]
    },
    {
     "data": {
      "image/png": "[encoded data removed]",
      "text/plain": [
       "<Figure size 1080x360 with 2 Axes>"
      ]
     },
     "metadata": {},
     "output_type": "display_data"
    }
   ],
   "source": [
    "err_bound = ij_error_terms['err_bound']\n",
    "err = theta_cv - theta_ij\n",
    "\n",
    "plt.figure(figsize=(15, 5))\n",
    "\n",
    "if ij_error_terms['valid']:\n",
    "    plt.subplot(1, 2, 1)\n",
    "    plt.hist(err / err_bound);\n",
    "    plt.title('Error bound ratios\\n(should be less than one)')\n",
    "    print('Error bound ratio (should be less than one): ', np.max(np.abs(err / err_bound)))\n",
    "    plt.subplot(1, 2, 2)\n",
    "    plt.hist(theta_ij / err_bound);\n",
    "    plt.title('Estimate over error')\n",
    "else:\n",
    "    print('Error bounds are invalid.')\n",
    "    print('Error bound ratio (should be less than one): ', np.max(np.abs(err / err_bound)))\n"
   ]
  }
 ],
 "metadata": {
  "kernelspec": {
   "display_name": "Python 3",
   "language": "python",
   "name": "python3"
  },
  "language_info": {
   "codemirror_mode": {
    "name": "ipython",
    "version": 3
   },
   "file_extension": ".py",
   "mimetype": "text/x-python",
   "name": "python",
   "nbconvert_exporter": "python",
   "pygments_lexer": "ipython3",
   "version": "3.5.2"
  }
 },
 "nbformat": 4,
 "nbformat_minor": 2
}
